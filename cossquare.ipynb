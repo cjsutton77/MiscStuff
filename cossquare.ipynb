{
  "nbformat": 4,
  "nbformat_minor": 0,
  "metadata": {
    "colab": {
      "provenance": [],
      "authorship_tag": "ABX9TyP+K9cfnbBKMHdzkkPFSXhe",
      "include_colab_link": true
    },
    "kernelspec": {
      "name": "python3",
      "display_name": "Python 3"
    },
    "language_info": {
      "name": "python"
    }
  },
  "cells": [
    {
      "cell_type": "markdown",
      "metadata": {
        "id": "view-in-github",
        "colab_type": "text"
      },
      "source": [
        "<a href=\"https://colab.research.google.com/github/cjsutton77/MiscStuff/blob/master/cossquare.ipynb\" target=\"_parent\"><img src=\"https://colab.research.google.com/assets/colab-badge.svg\" alt=\"Open In Colab\"/></a>"
      ]
    },
    {
      "cell_type": "code",
      "execution_count": 1,
      "metadata": {
        "id": "uoLCVmElAbpm"
      },
      "outputs": [],
      "source": [
        "from sympy import *\n",
        "x = symbols('x')"
      ]
    },
    {
      "cell_type": "code",
      "source": [
        "expr = cos(x*x)\n",
        "expr2 = x*0"
      ],
      "metadata": {
        "id": "ep50LntwAmlz"
      },
      "execution_count": 2,
      "outputs": []
    },
    {
      "cell_type": "code",
      "source": [
        "for i in range(0,20):\n",
        "  expr2 += (x** i) * diff(expr,x,i).evalf(subs={x:0})/factorial(i)"
      ],
      "metadata": {
        "id": "N7JEGTZYA0sR"
      },
      "execution_count": 3,
      "outputs": []
    },
    {
      "cell_type": "code",
      "source": [
        "simplify(expr2)"
      ],
      "metadata": {
        "colab": {
          "base_uri": "https://localhost:8080/",
          "height": 38
        },
        "id": "FfWyZIrLA_BG",
        "outputId": "b3dfcf21-f9aa-4758-8204-156f55f4f4d7"
      },
      "execution_count": 4,
      "outputs": [
        {
          "output_type": "execute_result",
          "data": {
            "text/plain": [
              "2.48015873015873e-5*x**16 - 0.00138888888888889*x**12 + 0.0416666666666667*x**8 - 0.5*x**4 + 1.0"
            ],
            "text/latex": "$\\displaystyle 2.48015873015873 \\cdot 10^{-5} x^{16} - 0.00138888888888889 x^{12} + 0.0416666666666667 x^{8} - 0.5 x^{4} + 1.0$"
          },
          "metadata": {},
          "execution_count": 4
        }
      ]
    },
    {
      "cell_type": "code",
      "source": [
        "expr.series(n=20)"
      ],
      "metadata": {
        "colab": {
          "base_uri": "https://localhost:8080/",
          "height": 54
        },
        "id": "BXvW32eyA_qA",
        "outputId": "6e594a1a-ee30-4f79-d346-d9ac04f09044"
      },
      "execution_count": 5,
      "outputs": [
        {
          "output_type": "execute_result",
          "data": {
            "text/plain": [
              "1 - x**4/2 + x**8/24 - x**12/720 + x**16/40320 + O(x**20)"
            ],
            "text/latex": "$\\displaystyle 1 - \\frac{x^{4}}{2} + \\frac{x^{8}}{24} - \\frac{x^{12}}{720} + \\frac{x^{16}}{40320} + O\\left(x^{20}\\right)$"
          },
          "metadata": {},
          "execution_count": 5
        }
      ]
    },
    {
      "cell_type": "code",
      "source": [
        "expr.evalf(subs={x:0})"
      ],
      "metadata": {
        "colab": {
          "base_uri": "https://localhost:8080/",
          "height": 37
        },
        "id": "f9n_qPhLezDT",
        "outputId": "f16ec8ad-e353-402f-abf3-a41d22ddf0c8"
      },
      "execution_count": 6,
      "outputs": [
        {
          "output_type": "execute_result",
          "data": {
            "text/plain": [
              "1.00000000000000"
            ],
            "text/latex": "$\\displaystyle 1.0$"
          },
          "metadata": {},
          "execution_count": 6
        }
      ]
    },
    {
      "cell_type": "code",
      "source": [
        "expr2.evalf(subs={x:0})"
      ],
      "metadata": {
        "colab": {
          "base_uri": "https://localhost:8080/",
          "height": 37
        },
        "id": "oznQJsGqBl4y",
        "outputId": "cafffefd-1ae9-4abb-d7d9-ffc04527ea92"
      },
      "execution_count": 7,
      "outputs": [
        {
          "output_type": "execute_result",
          "data": {
            "text/plain": [
              "1.00000000000000"
            ],
            "text/latex": "$\\displaystyle 1.0$"
          },
          "metadata": {},
          "execution_count": 7
        }
      ]
    },
    {
      "cell_type": "code",
      "source": [
        "(expr-expr2).evalf(subs={x:0})"
      ],
      "metadata": {
        "colab": {
          "base_uri": "https://localhost:8080/",
          "height": 37
        },
        "id": "F7138LAcev0v",
        "outputId": "ed46b3eb-8f99-4f2f-9afd-e2aa1add4292"
      },
      "execution_count": 8,
      "outputs": [
        {
          "output_type": "execute_result",
          "data": {
            "text/plain": [
              "0.e-125"
            ],
            "text/latex": "$\\displaystyle 2.0 \\cdot 10^{-125}$"
          },
          "metadata": {},
          "execution_count": 8
        }
      ]
    },
    {
      "cell_type": "code",
      "source": [
        "#so functionally equivalent!"
      ],
      "metadata": {
        "id": "mfd8xmwye8uT"
      },
      "execution_count": 9,
      "outputs": []
    }
  ]
}