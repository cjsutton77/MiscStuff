{
 "cells": [
  {
   "cell_type": "code",
   "execution_count": 1,
   "metadata": {},
   "outputs": [],
   "source": [
    "file = open('/Users/christiansutton/python/p096_sudoku.txt')"
   ]
  },
  {
   "cell_type": "code",
   "execution_count": 2,
   "metadata": {},
   "outputs": [],
   "source": [
    "def possible(row,col,number):\n",
    "    global matrix\n",
    "    # inspect column\n",
    "    for c in range(9):\n",
    "        if matrix[row][c] == number:\n",
    "            return False\n",
    "        else:\n",
    "            continue\n",
    "    for r in range(9):\n",
    "        if matrix[r][col] == number:\n",
    "            return False\n",
    "        else:\n",
    "            continue\n",
    "    boxRow = (row // 3) * 3\n",
    "    boxCol = (col // 3) * 3\n",
    "    for r in range(3):\n",
    "        for c in range(3):\n",
    "            if matrix[r + boxRow][c + boxCol] == number:\n",
    "                return False\n",
    "            else:\n",
    "                continue\n",
    "    return True"
   ]
  },
  {
   "cell_type": "code",
   "execution_count": 3,
   "metadata": {},
   "outputs": [],
   "source": [
    "soln = []\n",
    "def solver():\n",
    "    global matrix\n",
    "    for row in range(9):\n",
    "        for col in range(9):\n",
    "            if matrix[row][col] == 0:\n",
    "                for v in range(1,10):\n",
    "                    if possible(row,col,v):\n",
    "                        matrix[row][col] = v\n",
    "                        solver()\n",
    "                        matrix[row][col] = 0\n",
    "                return\n",
    "    #print(matrix)\n",
    "    soln.append(matrix[0][0] * 100 + matrix[0][1] * 10 + matrix[0][2])"
   ]
  },
  {
   "cell_type": "code",
   "execution_count": 4,
   "metadata": {},
   "outputs": [
    {
     "name": "stdout",
     "output_type": "stream",
     "text": [
      "Solving problem #1\n",
      "Solving problem #2\n",
      "Solving problem #3\n",
      "Solving problem #4\n",
      "Solving problem #5\n",
      "Solving problem #6\n",
      "Solving problem #7\n",
      "Solving problem #8\n",
      "Solving problem #9\n",
      "Solving problem #10\n",
      "Solving problem #11\n",
      "Solving problem #12\n",
      "Solving problem #13\n",
      "Solving problem #14\n",
      "Solving problem #15\n",
      "Solving problem #16\n",
      "Solving problem #17\n",
      "Solving problem #18\n",
      "Solving problem #19\n",
      "Solving problem #20\n",
      "Solving problem #21\n",
      "Solving problem #22\n",
      "Solving problem #23\n",
      "Solving problem #24\n",
      "Solving problem #25\n",
      "Solving problem #26\n",
      "Solving problem #27\n",
      "Solving problem #28\n",
      "Solving problem #29\n",
      "Solving problem #30\n",
      "Solving problem #31\n",
      "Solving problem #32\n",
      "Solving problem #33\n",
      "Solving problem #34\n",
      "Solving problem #35\n",
      "Solving problem #36\n",
      "Solving problem #37\n",
      "Solving problem #38\n",
      "Solving problem #39\n",
      "Solving problem #40\n",
      "Solving problem #41\n",
      "Solving problem #42\n",
      "Solving problem #43\n",
      "Solving problem #44\n",
      "Solving problem #45\n",
      "Solving problem #46\n",
      "Solving problem #47\n",
      "Solving problem #48\n",
      "Solving problem #49\n",
      "Solving problem #50\n"
     ]
    }
   ],
   "source": [
    "probs = file.readlines()\n",
    "len(probs)\n",
    "for i in range(50):\n",
    "    print(f'Solving problem #{i+1}')\n",
    "    problem = probs[i*10+1: i*10+10]\n",
    "    matrix = []\n",
    "    for i in problem:\n",
    "        temp = i.strip()\n",
    "        matrix.append([int(x) for x in temp])\n",
    "    solver()"
   ]
  },
  {
   "cell_type": "code",
   "execution_count": 5,
   "metadata": {},
   "outputs": [
    {
     "data": {
      "text/plain": [
       "24702"
      ]
     },
     "execution_count": 5,
     "metadata": {},
     "output_type": "execute_result"
    }
   ],
   "source": [
    "sum(soln)"
   ]
  },
  {
   "cell_type": "code",
   "execution_count": null,
   "metadata": {},
   "outputs": [],
   "source": []
  }
 ],
 "metadata": {
  "kernelspec": {
   "display_name": "Python 3",
   "language": "python",
   "name": "python3"
  },
  "language_info": {
   "codemirror_mode": {
    "name": "ipython",
    "version": 3
   },
   "file_extension": ".py",
   "mimetype": "text/x-python",
   "name": "python",
   "nbconvert_exporter": "python",
   "pygments_lexer": "ipython3",
   "version": "3.7.6"
  }
 },
 "nbformat": 4,
 "nbformat_minor": 4
}
