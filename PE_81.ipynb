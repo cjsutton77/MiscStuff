{
 "cells": [
  {
   "cell_type": "code",
   "execution_count": 1,
   "metadata": {},
   "outputs": [],
   "source": [
    "import numpy as np"
   ]
  },
  {
   "cell_type": "code",
   "execution_count": 2,
   "metadata": {},
   "outputs": [],
   "source": [
    "matrix = np.array([\n",
    "    [131,673,234,103,18],\n",
    "    [201,96,342,965,150],\n",
    "    [630,803,746,422,111],\n",
    "    [537,699,497,121,956],\n",
    "    [805,732,524,37,331]])\n",
    "matrix\n",
    "cost = np.zeros((5,5))\n",
    "cost[0,0] = matrix[0,0]"
   ]
  },
  {
   "cell_type": "code",
   "execution_count": 3,
   "metadata": {},
   "outputs": [],
   "source": [
    "# right wards\n",
    "for i in range(1,5):\n",
    "    cost[0,i] = cost[0,i-1] + matrix[0,i]\n",
    "\n",
    "# down wards\n",
    "for i in range(1,5):\n",
    "    cost[i,0] = cost[i-1,0] + matrix[i,0] "
   ]
  },
  {
   "cell_type": "code",
   "execution_count": 4,
   "metadata": {},
   "outputs": [
    {
     "data": {
      "text/plain": [
       "array([[ 131.,  804., 1038., 1141., 1159.],\n",
       "       [ 332.,    0.,    0.,    0.,    0.],\n",
       "       [ 962.,    0.,    0.,    0.,    0.],\n",
       "       [1499.,    0.,    0.,    0.,    0.],\n",
       "       [2304.,    0.,    0.,    0.,    0.]])"
      ]
     },
     "execution_count": 4,
     "metadata": {},
     "output_type": "execute_result"
    }
   ],
   "source": [
    "cost"
   ]
  },
  {
   "cell_type": "code",
   "execution_count": 5,
   "metadata": {},
   "outputs": [],
   "source": [
    "for i in range(1,5):\n",
    "    for j in range(1,5):\n",
    "        #print(i,j,matrix[i,j])\n",
    "        cost[i,j] = matrix[i,j] + min(cost[i-1,j],cost[i,j-1])\n",
    "        #print(i,j,matrix[i,j],min(cost[i-1,j],cost[i,j-1]))"
   ]
  },
  {
   "cell_type": "code",
   "execution_count": 6,
   "metadata": {},
   "outputs": [
    {
     "data": {
      "text/plain": [
       "array([[ 131.,  804., 1038., 1141., 1159.],\n",
       "       [ 332.,  428.,  770., 1735., 1309.],\n",
       "       [ 962., 1231., 1516., 1938., 1420.],\n",
       "       [1499., 1930., 2013., 2059., 2376.],\n",
       "       [2304., 2662., 2537., 2096., 2427.]])"
      ]
     },
     "execution_count": 6,
     "metadata": {},
     "output_type": "execute_result"
    }
   ],
   "source": [
    "cost"
   ]
  },
  {
   "cell_type": "code",
   "execution_count": 7,
   "metadata": {},
   "outputs": [],
   "source": [
    "## lets do the real deal now..."
   ]
  },
  {
   "cell_type": "code",
   "execution_count": 8,
   "metadata": {},
   "outputs": [],
   "source": [
    "filename = \"/Users/christiansutton/Downloads/p081_matrix.txt\"\n",
    "matrix = np.loadtxt(filename,delimiter=\",\",ndmin=2)"
   ]
  },
  {
   "cell_type": "code",
   "execution_count": 9,
   "metadata": {},
   "outputs": [
    {
     "data": {
      "text/plain": [
       "(80, 80)"
      ]
     },
     "execution_count": 9,
     "metadata": {},
     "output_type": "execute_result"
    }
   ],
   "source": [
    "matrix.shape"
   ]
  },
  {
   "cell_type": "code",
   "execution_count": 10,
   "metadata": {},
   "outputs": [],
   "source": [
    "cost = np.zeros(matrix.shape)\n",
    "cost[0,0] = matrix[0,0]"
   ]
  },
  {
   "cell_type": "code",
   "execution_count": 11,
   "metadata": {},
   "outputs": [],
   "source": [
    "# right wards\n",
    "for i in range(1,matrix.shape[0]):\n",
    "    cost[0,i] = cost[0,i-1] + matrix[0,i]\n",
    "\n",
    "# down wards\n",
    "for i in range(1,matrix.shape[0]):\n",
    "    cost[i,0] = cost[i-1,0] + matrix[i,0] "
   ]
  },
  {
   "cell_type": "code",
   "execution_count": 12,
   "metadata": {},
   "outputs": [],
   "source": [
    "for i in range(1,matrix.shape[0]):\n",
    "    for j in range(1,matrix.shape[0]):\n",
    "        #print(i,j,matrix[i,j])\n",
    "        cost[i,j] = matrix[i,j] + min(cost[i-1,j],cost[i,j-1])\n",
    "        #print(i,j,matrix[i,j],min(cost[i-1,j],cost[i,j-1]))"
   ]
  },
  {
   "cell_type": "code",
   "execution_count": 13,
   "metadata": {},
   "outputs": [
    {
     "data": {
      "text/plain": [
       "427337"
      ]
     },
     "execution_count": 13,
     "metadata": {},
     "output_type": "execute_result"
    }
   ],
   "source": [
    "int(cost[-1:,-1:])"
   ]
  },
  {
   "cell_type": "code",
   "execution_count": null,
   "metadata": {},
   "outputs": [],
   "source": []
  }
 ],
 "metadata": {
  "kernelspec": {
   "display_name": "Python 3",
   "language": "python",
   "name": "python3"
  },
  "language_info": {
   "codemirror_mode": {
    "name": "ipython",
    "version": 3
   },
   "file_extension": ".py",
   "mimetype": "text/x-python",
   "name": "python",
   "nbconvert_exporter": "python",
   "pygments_lexer": "ipython3",
   "version": "3.7.6"
  }
 },
 "nbformat": 4,
 "nbformat_minor": 4
}
